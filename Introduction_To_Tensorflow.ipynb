{
  "nbformat": 4,
  "nbformat_minor": 0,
  "metadata": {
    "colab": {
      "name": "Introduction-To-Tensorflow.ipynb",
      "provenance": [],
      "authorship_tag": "ABX9TyMa+LorvWSSjWcixhX/ukvu",
      "include_colab_link": true
    },
    "kernelspec": {
      "name": "python3",
      "display_name": "Python 3"
    },
    "language_info": {
      "name": "python"
    }
  },
  "cells": [
    {
      "cell_type": "markdown",
      "metadata": {
        "id": "view-in-github",
        "colab_type": "text"
      },
      "source": [
        "<a href=\"https://colab.research.google.com/github/priya456-hash/Introduction-to-tensorflow/blob/main/Introduction_To_Tensorflow.ipynb\" target=\"_parent\"><img src=\"https://colab.research.google.com/assets/colab-badge.svg\" alt=\"Open In Colab\"/></a>"
      ]
    },
    {
      "cell_type": "markdown",
      "source": [
        "Tensor is some sort of the data usually a multidimensional array but it could be anything including images or text. It is high performance numerical library and it is geared towards machine learning. \n",
        "\n",
        "-It could be used for solving complex partial differential equations, and just about anything numerical. "
      ],
      "metadata": {
        "id": "HAhHKJ5Qt2uT"
      }
    },
    {
      "cell_type": "code",
      "source": [
        "import tensorflow as tf\n",
        "import numpy as np\n",
        "\n"
      ],
      "metadata": {
        "id": "Unx9vT04uoQi"
      },
      "execution_count": 51,
      "outputs": []
    },
    {
      "cell_type": "markdown",
      "source": [
        "Performing arithmetic operations using tensorflow and defining constants using tensorflow. These constants can be scalars, vectors or matrices. "
      ],
      "metadata": {
        "id": "br4prmIcvG8d"
      }
    },
    {
      "cell_type": "code",
      "source": [
        "#basic arithmetic with tensorflow\n",
        "a = tf.constant(2) # define some constant within tensorflow\n",
        "b = tf.constant(3)"
      ],
      "metadata": {
        "id": "SzWXpyYTu1Zv"
      },
      "execution_count": 52,
      "outputs": []
    },
    {
      "cell_type": "code",
      "source": [
        "def function():\n",
        "  with tf.compat.v1.Session() as sess:\n",
        "    print(\"a =2, b=3\")\n",
        "    print(\"a+b=\" + str(sess.run(a+b)))\n",
        "    print(\"a+b=\" + str(sess.run(a*b)))\n",
        "\n",
        "\n",
        "  #K.clear_session()\n",
        "  #tf.compat.v1.reset_default_graph()\n",
        "  #tf.compat.v1.disable_eager_execution()"
      ],
      "metadata": {
        "id": "zQeFY8lpvApY"
      },
      "execution_count": 54,
      "outputs": []
    },
    {
      "cell_type": "code",
      "source": [
        "#same thing using different placeholder variables \n",
        "import tensorflow.compat.v1 as tf\n",
        "tf.disable_v2_behavior()\n",
        "\n",
        "a = tf.placeholder(tf.int16)\n",
        "b = tf.placeholder(tf.int16)\n",
        "\n",
        "print(a)\n",
        "print(b)"
      ],
      "metadata": {
        "colab": {
          "base_uri": "https://localhost:8080/"
        },
        "id": "bTaNLEa8xVgv",
        "outputId": "a38a1024-1e07-42f8-e9f4-e954e3860704"
      },
      "execution_count": 55,
      "outputs": [
        {
          "output_type": "stream",
          "name": "stdout",
          "text": [
            "Tensor(\"Placeholder_10:0\", dtype=int16)\n",
            "Tensor(\"Placeholder_11:0\", dtype=int16)\n"
          ]
        }
      ]
    },
    {
      "cell_type": "code",
      "source": [
        "a=5\n",
        "b=7\n",
        "\n",
        "add = tf.add(a,b)\n",
        "print(add)\n",
        "\n",
        "mul = tf.multiply(a,b)\n",
        "#print(sub)"
      ],
      "metadata": {
        "colab": {
          "base_uri": "https://localhost:8080/"
        },
        "id": "9HIzp_VMzOWg",
        "outputId": "7bb52b94-ed8f-491e-d508-a1eb0e8995cf"
      },
      "execution_count": 58,
      "outputs": [
        {
          "output_type": "stream",
          "name": "stdout",
          "text": [
            "Tensor(\"Add_19:0\", shape=(), dtype=int32)\n"
          ]
        }
      ]
    },
    {
      "cell_type": "code",
      "source": [
        "#matrix multiplication\n",
        "\n",
        "matrix1 = tf.constant([[1., 2.],[9.0,3.141]])\n",
        "matrix2 = tf.constant([[3.],[4.]])\n",
        "\n",
        "product = tf.matmul(matrix1, matrix2)\n",
        "with tf.Session() as sess: \n",
        "  result =sess.run(product)\n",
        "  print(result)"
      ],
      "metadata": {
        "colab": {
          "base_uri": "https://localhost:8080/"
        },
        "id": "cpWmH35g0U7h",
        "outputId": "b80fcc34-46fa-4d3c-cfa9-f74d18d579d8"
      },
      "execution_count": 59,
      "outputs": [
        {
          "output_type": "stream",
          "name": "stdout",
          "text": [
            "[[11.   ]\n",
            " [39.564]]\n"
          ]
        }
      ]
    }
  ]
}